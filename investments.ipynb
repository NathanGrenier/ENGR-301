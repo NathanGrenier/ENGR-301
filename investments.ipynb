{
 "cells": [
  {
   "cell_type": "code",
   "execution_count": null,
   "metadata": {},
   "outputs": [],
   "source": [
    "import pandas as pd\n",
    "\n",
    "# Load the Excel file\n",
    "file_path = 'path_to_your_excel_file.xlsx'\n",
    "sheet_name = 'Montreal_CMA'\n",
    "\n",
    "# Read the specific sheet\n",
    "df = pd.read_excel(file_path, sheet_name=sheet_name)\n",
    "\n",
    "# Convert the date column to datetime format if it's not already\n",
    "df['date'] = pd.to_datetime(df['date'])\n",
    "\n",
    "# Filter the date range\n",
    "start_date = '2015-07-01'\n",
    "end_date = '2024-07-31'\n",
    "mask = (df['date'] >= start_date) & (df['date'] <= end_date)\n",
    "filtered_df = df.loc[mask]\n",
    "\n",
    "# Select the composite_HPI column\n",
    "result = filtered_df[['date', 'composite_HPI']]\n",
    "\n",
    "# Display the result\n",
    "print(result)"
   ]
  }
 ],
 "metadata": {
  "kernelspec": {
   "display_name": "venv",
   "language": "python",
   "name": "python3"
  },
  "language_info": {
   "name": "python",
   "version": "3.12.1"
  }
 },
 "nbformat": 4,
 "nbformat_minor": 2
}
